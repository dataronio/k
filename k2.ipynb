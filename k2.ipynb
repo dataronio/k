{
 "cells": [
  {
   "cell_type": "code",
   "execution_count": 1,
   "metadata": {},
   "outputs": [],
   "source": [
    "import os\n",
    "import gc\n",
    "import pandas as pd\n",
    "import numpy as np\n",
    "import lightgbm as lgbm\n",
    "import xgboost as xgb\n",
    "import seaborn as sns\n",
    "from sklearn.preprocessing import LabelEncoder\n",
    "import matplotlib.pyplot as plt\n",
    "\n",
    "# Suppress warnings from pandas\n",
    "import warnings\n",
    "warnings.filterwarnings('ignore')\n",
    "\n",
    "plt.style.use('fivethirtyeight')"
   ]
  },
  {
   "cell_type": "code",
   "execution_count": 2,
   "metadata": {},
   "outputs": [
    {
     "name": "stdout",
     "output_type": "stream",
     "text": [
      "Input files:\n",
      "['bureau.csv', 'application_test.csv', 'processed_input_data.csv', 'credit_card_balance.csv', 'previous_application.csv', 'installments_payments.csv', 'bureau_balance.csv', 'POS_CASH_balance.csv', 'application_train.csv']\n",
      "Loading data sets...\n"
     ]
    }
   ],
   "source": [
    "\"\"\" Load and process inputs \"\"\"\n",
    "input_dir = os.path.join(os.curdir, 'data')\n",
    "print('Input files:\\n{}'.format(os.listdir(input_dir)))\n",
    "print('Loading data sets...')"
   ]
  },
  {
   "cell_type": "code",
   "execution_count": 3,
   "metadata": {},
   "outputs": [],
   "source": [
    "def reduce_mem_usage(df):\n",
    "    \"\"\" iterate through all the columns of a dataframe and modify the data type\n",
    "        to reduce memory usage.        \n",
    "    \"\"\"\n",
    "    start_mem = df.memory_usage().sum() / 1024**2\n",
    "    print('Memory usage of dataframe is {:.2f} MB'.format(start_mem))\n",
    "    \n",
    "    for col in df.columns:\n",
    "        col_type = df[col].dtype\n",
    "        \n",
    "        if col_type != object:\n",
    "            c_min = df[col].min()\n",
    "            c_max = df[col].max()\n",
    "            if str(col_type)[:3] == 'int':\n",
    "                if c_min > np.iinfo(np.int8).min and c_max < np.iinfo(np.int8).max:\n",
    "                    df[col] = df[col].astype(np.int8)\n",
    "                elif c_min > np.iinfo(np.int16).min and c_max < np.iinfo(np.int16).max:\n",
    "                    df[col] = df[col].astype(np.int16)\n",
    "                elif c_min > np.iinfo(np.int32).min and c_max < np.iinfo(np.int32).max:\n",
    "                    df[col] = df[col].astype(np.int32)\n",
    "                elif c_min > np.iinfo(np.int64).min and c_max < np.iinfo(np.int64).max:\n",
    "                    df[col] = df[col].astype(np.int64)  \n",
    "            else:\n",
    "                if c_min > np.finfo(np.float16).min and c_max < np.finfo(np.float16).max:\n",
    "                    df[col] = df[col].astype(np.float16)\n",
    "                elif c_min > np.finfo(np.float32).min and c_max < np.finfo(np.float32).max:\n",
    "                    df[col] = df[col].astype(np.float32)\n",
    "                else:\n",
    "                    df[col] = df[col].astype(np.float64)\n",
    "\n",
    "    end_mem = df.memory_usage().sum() / 1024**2\n",
    "    print('Memory usage after optimization is: {:.2f} MB'.format(end_mem))\n",
    "    print('Decreased by {:.1f}%'.format(100 * (start_mem - end_mem) / start_mem))\n",
    "    \n",
    "    return df"
   ]
  },
  {
   "cell_type": "code",
   "execution_count": 4,
   "metadata": {},
   "outputs": [
    {
     "name": "stdout",
     "output_type": "stream",
     "text": [
      "Memory usage of dataframe is 1236.69 MB\n",
      "Memory usage after optimization is: 494.68 MB\n",
      "Decreased by 60.0%\n"
     ]
    }
   ],
   "source": [
    "sample_size = None\n",
    "merged_df = reduce_mem_usage(pd.read_csv(os.path.join(input_dir, 'processed_input_data.csv'), nrows=sample_size))"
   ]
  },
  {
   "cell_type": "code",
   "execution_count": 5,
   "metadata": {},
   "outputs": [],
   "source": [
    "# Separate metadata\n",
    "meta_cols = ['SK_ID_CURR']\n",
    "meta_df = merged_df[meta_cols]\n",
    "merged_df.drop(columns=meta_cols, inplace=True)"
   ]
  },
  {
   "cell_type": "code",
   "execution_count": 6,
   "metadata": {},
   "outputs": [],
   "source": [
    "def process_dataframe(input_df, encoder_dict=None):\n",
    "    \"\"\" Process a dataframe into a form useable by LightGBM \"\"\"\n",
    "\n",
    "    # Label encode categoricals\n",
    "    print('Label encoding categorical features...')\n",
    "    categorical_feats = input_df.columns[input_df.dtypes == 'object']\n",
    "    for feat in categorical_feats:\n",
    "        encoder = LabelEncoder()\n",
    "        input_df[feat] = encoder.fit_transform(input_df[feat].fillna('NULL'))\n",
    "    print('Label encoding complete.')\n",
    "\n",
    "    return input_df, categorical_feats.tolist(), encoder_dict"
   ]
  },
  {
   "cell_type": "code",
   "execution_count": 7,
   "metadata": {},
   "outputs": [],
   "source": [
    "categorical_feats = merged_df.columns[merged_df.dtypes == 'object']"
   ]
  },
  {
   "cell_type": "code",
   "execution_count": 8,
   "metadata": {},
   "outputs": [
    {
     "data": {
      "text/plain": [
       "Index(['CODE_GENDER', 'EMERGENCYSTATE_MODE', 'FLAG_OWN_CAR', 'FLAG_OWN_REALTY',\n",
       "       'FONDKAPREMONT_MODE', 'HOUSETYPE_MODE', 'NAME_CONTRACT_TYPE',\n",
       "       'NAME_EDUCATION_TYPE', 'NAME_FAMILY_STATUS', 'NAME_HOUSING_TYPE',\n",
       "       'NAME_INCOME_TYPE', 'NAME_TYPE_SUITE', 'OCCUPATION_TYPE',\n",
       "       'ORGANIZATION_TYPE', 'WALLSMATERIAL_MODE', 'WEEKDAY_APPR_PROCESS_START',\n",
       "       'NAME_CONTRACT_TYPE_PRVMAX', 'WEEKDAY_APPR_PROCESS_START_PRVMAX',\n",
       "       'FLAG_LAST_APPL_PER_CONTRACT', 'NAME_CASH_LOAN_PURPOSE',\n",
       "       'NAME_CONTRACT_STATUS', 'NAME_PAYMENT_TYPE', 'CODE_REJECT_REASON',\n",
       "       'NAME_CLIENT_TYPE', 'NAME_GOODS_CATEGORY', 'NAME_PORTFOLIO',\n",
       "       'NAME_PRODUCT_TYPE', 'CHANNEL_TYPE', 'NAME_SELLER_INDUSTRY',\n",
       "       'NAME_YIELD_GROUP', 'NAME_CONTRACT_TYPE_PRVMIN',\n",
       "       'WEEKDAY_APPR_PROCESS_START_PRVMIN',\n",
       "       'FLAG_LAST_APPL_PER_CONTRACT_PRVMIN', 'NAME_CASH_LOAN_PURPOSE_PRVMIN',\n",
       "       'NAME_CONTRACT_STATUS_PRVMIN', 'NAME_PAYMENT_TYPE_PRVMIN',\n",
       "       'CODE_REJECT_REASON_PRVMIN', 'NAME_CLIENT_TYPE_PRVMIN',\n",
       "       'NAME_GOODS_CATEGORY_PRVMIN', 'NAME_PORTFOLIO_PRVMIN',\n",
       "       'NAME_PRODUCT_TYPE_PRVMIN', 'CHANNEL_TYPE_PRVMIN',\n",
       "       'NAME_SELLER_INDUSTRY_PRVMIN', 'NAME_YIELD_GROUP_PRVMIN',\n",
       "       'NAME_CONTRACT_STATUS_CCAVG', 'CREDIT_ACTIVE', 'CREDIT_CURRENCY',\n",
       "       'CREDIT_TYPE', 'CREDIT_ACTIVE_BMIN', 'CREDIT_CURRENCY_BMIN',\n",
       "       'CREDIT_TYPE_BMIN', 'STATUS', 'NAME_CONTRACT_STATUS_PCMAX',\n",
       "       'NAME_CONTRACT_STATUS_PCMIN', 'NAME_CONTRACT_STATUS_CAVG'],\n",
       "      dtype='object')"
      ]
     },
     "execution_count": 8,
     "metadata": {},
     "output_type": "execute_result"
    }
   ],
   "source": [
    "categorical_feats"
   ]
  },
  {
   "cell_type": "code",
   "execution_count": 9,
   "metadata": {},
   "outputs": [],
   "source": [
    "for feat in categorical_feats:\n",
    "        encoder = LabelEncoder()\n",
    "        merged_df[feat] = encoder.fit_transform(merged_df[feat].fillna('NULL'))"
   ]
  },
  {
   "cell_type": "code",
   "execution_count": 10,
   "metadata": {},
   "outputs": [
    {
     "data": {
      "text/plain": [
       "['CODE_GENDER',\n",
       " 'EMERGENCYSTATE_MODE',\n",
       " 'FLAG_OWN_CAR',\n",
       " 'FLAG_OWN_REALTY',\n",
       " 'FONDKAPREMONT_MODE',\n",
       " 'HOUSETYPE_MODE',\n",
       " 'NAME_CONTRACT_TYPE',\n",
       " 'NAME_EDUCATION_TYPE',\n",
       " 'NAME_FAMILY_STATUS',\n",
       " 'NAME_HOUSING_TYPE',\n",
       " 'NAME_INCOME_TYPE',\n",
       " 'NAME_TYPE_SUITE',\n",
       " 'OCCUPATION_TYPE',\n",
       " 'ORGANIZATION_TYPE',\n",
       " 'WALLSMATERIAL_MODE',\n",
       " 'WEEKDAY_APPR_PROCESS_START',\n",
       " 'NAME_CONTRACT_TYPE_PRVMAX',\n",
       " 'WEEKDAY_APPR_PROCESS_START_PRVMAX',\n",
       " 'FLAG_LAST_APPL_PER_CONTRACT',\n",
       " 'NAME_CASH_LOAN_PURPOSE',\n",
       " 'NAME_CONTRACT_STATUS',\n",
       " 'NAME_PAYMENT_TYPE',\n",
       " 'CODE_REJECT_REASON',\n",
       " 'NAME_CLIENT_TYPE',\n",
       " 'NAME_GOODS_CATEGORY',\n",
       " 'NAME_PORTFOLIO',\n",
       " 'NAME_PRODUCT_TYPE',\n",
       " 'CHANNEL_TYPE',\n",
       " 'NAME_SELLER_INDUSTRY',\n",
       " 'NAME_YIELD_GROUP',\n",
       " 'NAME_CONTRACT_TYPE_PRVMIN',\n",
       " 'WEEKDAY_APPR_PROCESS_START_PRVMIN',\n",
       " 'FLAG_LAST_APPL_PER_CONTRACT_PRVMIN',\n",
       " 'NAME_CASH_LOAN_PURPOSE_PRVMIN',\n",
       " 'NAME_CONTRACT_STATUS_PRVMIN',\n",
       " 'NAME_PAYMENT_TYPE_PRVMIN',\n",
       " 'CODE_REJECT_REASON_PRVMIN',\n",
       " 'NAME_CLIENT_TYPE_PRVMIN',\n",
       " 'NAME_GOODS_CATEGORY_PRVMIN',\n",
       " 'NAME_PORTFOLIO_PRVMIN',\n",
       " 'NAME_PRODUCT_TYPE_PRVMIN',\n",
       " 'CHANNEL_TYPE_PRVMIN',\n",
       " 'NAME_SELLER_INDUSTRY_PRVMIN',\n",
       " 'NAME_YIELD_GROUP_PRVMIN',\n",
       " 'NAME_CONTRACT_STATUS_CCAVG',\n",
       " 'CREDIT_ACTIVE',\n",
       " 'CREDIT_CURRENCY',\n",
       " 'CREDIT_TYPE',\n",
       " 'CREDIT_ACTIVE_BMIN',\n",
       " 'CREDIT_CURRENCY_BMIN',\n",
       " 'CREDIT_TYPE_BMIN',\n",
       " 'STATUS',\n",
       " 'NAME_CONTRACT_STATUS_PCMAX',\n",
       " 'NAME_CONTRACT_STATUS_PCMIN',\n",
       " 'NAME_CONTRACT_STATUS_CAVG']"
      ]
     },
     "execution_count": 10,
     "metadata": {},
     "output_type": "execute_result"
    }
   ],
   "source": [
    "categorical_feats.tolist()"
   ]
  },
  {
   "cell_type": "code",
   "execution_count": 14,
   "metadata": {},
   "outputs": [],
   "source": [
    "# Capture other categorical features not as object data types:\n",
    "non_obj_categoricals = [\n",
    "    'FONDKAPREMONT_MODE', 'HOUR_APPR_PROCESS_START', 'HOUSETYPE_MODE',\n",
    "    'NAME_EDUCATION_TYPE', 'NAME_FAMILY_STATUS', 'NAME_HOUSING_TYPE',\n",
    "    'NAME_INCOME_TYPE', 'NAME_TYPE_SUITE', 'OCCUPATION_TYPE',\n",
    "    'ORGANIZATION_TYPE', 'STATUS', 'NAME_CONTRACT_STATUS_CAVG',\n",
    "    'WALLSMATERIAL_MODE', 'WEEKDAY_APPR_PROCESS_START', 'NAME_CONTRACT_TYPE_BAVG',\n",
    "    'WEEKDAY_APPR_PROCESS_START_BAVG', 'NAME_CASH_LOAN_PURPOSE', 'NAME_CONTRACT_STATUS', \n",
    "    'NAME_PAYMENT_TYPE', 'CODE_REJECT_REASON', 'NAME_TYPE_SUITE_BAVG', \n",
    "    'NAME_CLIENT_TYPE', 'NAME_GOODS_CATEGORY', 'NAME_PORTFOLIO', \n",
    "    'NAME_PRODUCT_TYPE', 'CHANNEL_TYPE', 'NAME_SELLER_INDUSTRY', \n",
    "    'NAME_YIELD_GROUP', 'PRODUCT_COMBINATION', 'NAME_CONTRACT_STATUS_CCAVG',\n",
    "    'CREDIT_ACTIVE', 'CREDIT_CURRENCY', 'CREDIT_TYPE'\n",
    "]\n",
    "categorical_feats = categorical_feats.tolist() + non_obj_categoricals"
   ]
  },
  {
   "cell_type": "code",
   "execution_count": 15,
   "metadata": {},
   "outputs": [],
   "source": [
    "# Re-separate into train and test\n",
    "len_train = 307511\n",
    "train_df = merged_df[:len_train]\n",
    "test_df = merged_df[len_train:]\n",
    "#del merged_df"
   ]
  },
  {
   "cell_type": "code",
   "execution_count": 16,
   "metadata": {},
   "outputs": [
    {
     "name": "stdout",
     "output_type": "stream",
     "text": [
      "[50]\tcv_agg's auc: 0.772069 + 0.00297116\n",
      "[100]\tcv_agg's auc: 0.781829 + 0.00263105\n",
      "[150]\tcv_agg's auc: 0.784977 + 0.00223466\n",
      "[200]\tcv_agg's auc: 0.787312 + 0.00196398\n",
      "[250]\tcv_agg's auc: 0.788391 + 0.0019868\n",
      "[300]\tcv_agg's auc: 0.789125 + 0.00196343\n",
      "[350]\tcv_agg's auc: 0.789468 + 0.0018412\n",
      "[400]\tcv_agg's auc: 0.789979 + 0.00180818\n",
      "[450]\tcv_agg's auc: 0.790285 + 0.00169092\n",
      "[500]\tcv_agg's auc: 0.79021 + 0.00176743\n",
      "Optimum boost rounds = 468\n",
      "Best LGBM CV result = 0.7903503896543542\n"
     ]
    }
   ],
   "source": [
    "\"\"\" Train the LightGBM model \"\"\"\n",
    "target = train_df.pop('TARGET')\n",
    "test_df.drop(columns='TARGET', inplace=True)\n",
    "lgbm_train = lgbm.Dataset(data=train_df,\n",
    "                          label=target,\n",
    "                          categorical_feature=categorical_feats,\n",
    "                          free_raw_data=False)\n",
    "                          \n",
    "lgbm_params = {\n",
    "    'boosting': 'dart',\n",
    "    'application': 'binary',\n",
    "    'learning_rate': 0.1,\n",
    "    'min_data_in_leaf': 30,\n",
    "    'num_leaves': 31,\n",
    "    'max_depth': -1,\n",
    "    'feature_fraction': 0.5,\n",
    "    'scale_pos_weight': 2,\n",
    "    'drop_rate': 0.02\n",
    "}\n",
    "\n",
    "cv_results = lgbm.cv(train_set=lgbm_train,\n",
    "                     params=lgbm_params,\n",
    "                     nfold=5,\n",
    "                     num_boost_round=600,\n",
    "                     early_stopping_rounds=50,\n",
    "                     stratified=True,\n",
    "                     verbose_eval=50,\n",
    "                     metrics=['auc'])\n",
    "\n",
    "optimum_boost_rounds = np.argmax(cv_results['auc-mean'])\n",
    "print('Optimum boost rounds = {}'.format(optimum_boost_rounds))\n",
    "print('Best LGBM CV result = {}'.format(np.max(cv_results['auc-mean'])))\n"
   ]
  },
  {
   "cell_type": "code",
   "execution_count": null,
   "metadata": {},
   "outputs": [],
   "source": []
  }
 ],
 "metadata": {
  "kernelspec": {
   "display_name": "Python 3",
   "language": "python",
   "name": "python3"
  },
  "language_info": {
   "codemirror_mode": {
    "name": "ipython",
    "version": 3
   },
   "file_extension": ".py",
   "mimetype": "text/x-python",
   "name": "python",
   "nbconvert_exporter": "python",
   "pygments_lexer": "ipython3",
   "version": "3.6.4"
  }
 },
 "nbformat": 4,
 "nbformat_minor": 2
}
